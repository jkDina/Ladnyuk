{
  "nbformat": 4,
  "nbformat_minor": 0,
  "metadata": {
    "colab": {
      "name": "cifar10_tricks_clean.ipynb",
      "version": "0.3.2",
      "provenance": [],
      "collapsed_sections": [],
      "include_colab_link": true
    },
    "kernelspec": {
      "name": "python3",
      "display_name": "Python 3"
    },
    "accelerator": "GPU"
  },
  "cells": [
    {
      "cell_type": "markdown",
      "metadata": {
        "id": "view-in-github",
        "colab_type": "text"
      },
      "source": [
        "<a href=\"https://colab.research.google.com/github/jkDina/Ladnyuk/blob/master/les4/cifar10_tricks_clean.ipynb\" target=\"_parent\"><img src=\"https://colab.research.google.com/assets/colab-badge.svg\" alt=\"Open In Colab\"/></a>"
      ]
    },
    {
      "cell_type": "markdown",
      "metadata": {
        "ExecuteTime": {
          "end_time": "2017-09-03T21:05:26.096298Z",
          "start_time": "2017-09-03T21:05:26.092498Z"
        },
        "id": "QqUJpyiXeS6R",
        "colab_type": "text"
      },
      "source": [
        "# CIFAR-10 с трюками\n",
        "\n",
        "В этом задании мы продолжим работать с CIFAR-10, опробовав трюки, про которые мы узнали в 4 модуле.\n",
        "\n",
        "Датасет CIFAR-10 состоит из цветных картинок 32x32, разделенных на 10 классов: \n",
        "\n",
        "__airplane, automobile, bird, cat, deer, dog, frog, horse, ship, truck__"
      ]
    },
    {
      "cell_type": "markdown",
      "metadata": {
        "id": "2J7GNImieS6S",
        "colab_type": "text"
      },
      "source": [
        "# Импорты"
      ]
    },
    {
      "cell_type": "code",
      "metadata": {
        "ExecuteTime": {
          "end_time": "2017-10-29T18:51:58.907479Z",
          "start_time": "2017-10-29T18:51:42.206537Z"
        },
        "scrolled": true,
        "id": "LQIUU8LdeS6d",
        "colab_type": "code",
        "outputId": "4d4f4c35-2669-4383-9c9b-bb5c33f8293a",
        "colab": {
          "base_uri": "https://localhost:8080/",
          "height": 51
        }
      },
      "source": [
        "import tensorflow as tf\n",
        "import keras\n",
        "from keras import backend as K\n",
        "import numpy as np\n",
        "%matplotlib inline\n",
        "import matplotlib.pyplot as plt\n",
        "print(tf.__version__)\n",
        "print(keras.__version__)\n",
        "from keras import backend as K"
      ],
      "execution_count": 2,
      "outputs": [
        {
          "output_type": "stream",
          "text": [
            "1.14.0-rc1\n",
            "2.2.4\n"
          ],
          "name": "stdout"
        }
      ]
    },
    {
      "cell_type": "code",
      "metadata": {
        "id": "q1J16f7gevlR",
        "colab_type": "code",
        "colab": {}
      },
      "source": [
        "# чистит сессию в Keras и TF\n",
        "def reset_tf_session():\n",
        "    curr_session = tf.get_default_session()\n",
        "    # close current session\n",
        "    if curr_session is not None:\n",
        "        curr_session.close()\n",
        "    # reset graph\n",
        "    K.clear_session()\n",
        "    # create new session\n",
        "    config = tf.ConfigProto()\n",
        "    config.gpu_options.allow_growth = True\n",
        "    s = tf.InteractiveSession(config=config)\n",
        "    K.set_session(s)\n",
        "    return s"
      ],
      "execution_count": 0,
      "outputs": []
    },
    {
      "cell_type": "markdown",
      "metadata": {
        "id": "sGYhZCO9eS6m",
        "colab_type": "text"
      },
      "source": [
        "# Загружаем данные"
      ]
    },
    {
      "cell_type": "code",
      "metadata": {
        "ExecuteTime": {
          "end_time": "2017-09-03T23:44:40.870302Z",
          "start_time": "2017-09-03T23:44:39.221603Z"
        },
        "id": "PGXgRLxxeS6n",
        "colab_type": "code",
        "colab": {
          "base_uri": "https://localhost:8080/",
          "height": 51
        },
        "outputId": "dbeaa268-53aa-49bc-fbe6-f2567811aea3"
      },
      "source": [
        "from keras.datasets import cifar10\n",
        "(x_train, y_train), (x_test, y_test) = cifar10.load_data()"
      ],
      "execution_count": 4,
      "outputs": [
        {
          "output_type": "stream",
          "text": [
            "Downloading data from https://www.cs.toronto.edu/~kriz/cifar-10-python.tar.gz\n",
            "170500096/170498071 [==============================] - 13s 0us/step\n"
          ],
          "name": "stdout"
        }
      ]
    },
    {
      "cell_type": "code",
      "metadata": {
        "ExecuteTime": {
          "end_time": "2017-09-04T00:27:41.648291Z",
          "start_time": "2017-09-04T00:27:41.644322Z"
        },
        "id": "x7J3FtvBeS6r",
        "colab_type": "code",
        "outputId": "21b1a75f-5ab8-400a-f8f4-526fc9a001ee",
        "colab": {
          "base_uri": "https://localhost:8080/",
          "height": 51
        }
      },
      "source": [
        "print(\"Трейн:\", x_train.shape, y_train.shape)\n",
        "print(\"Тест:\", x_test.shape, y_test.shape)"
      ],
      "execution_count": 5,
      "outputs": [
        {
          "output_type": "stream",
          "text": [
            "Трейн: (50000, 32, 32, 3) (50000, 1)\n",
            "Тест: (10000, 32, 32, 3) (10000, 1)\n"
          ],
          "name": "stdout"
        }
      ]
    },
    {
      "cell_type": "code",
      "metadata": {
        "ExecuteTime": {
          "end_time": "2017-09-03T23:44:41.009639Z",
          "start_time": "2017-09-03T23:44:40.877013Z"
        },
        "id": "kA2RHYeveS6u",
        "colab_type": "code",
        "colab": {}
      },
      "source": [
        "NUM_CLASSES = 10\n",
        "cifar10_classes = [\"airplane\", \"automobile\", \"bird\", \"cat\", \"deer\", \n",
        "                   \"dog\", \"frog\", \"horse\", \"ship\", \"truck\"]"
      ],
      "execution_count": 0,
      "outputs": []
    },
    {
      "cell_type": "code",
      "metadata": {
        "ExecuteTime": {
          "end_time": "2017-09-03T23:44:42.285830Z",
          "start_time": "2017-09-03T23:44:41.011216Z"
        },
        "id": "yfavHnQyeS6x",
        "colab_type": "code",
        "outputId": "8b6e78b9-17ef-4ad3-cf42-a9e9b0541382",
        "colab": {
          "base_uri": "https://localhost:8080/",
          "height": 324
        }
      },
      "source": [
        "# посмотрим на примеры картинок\n",
        "cols = 8\n",
        "rows = 2\n",
        "fig = plt.figure(figsize=(2 * cols - 1, 2.5 * rows - 1))\n",
        "for i in range(cols):\n",
        "    for j in range(rows):\n",
        "        random_index = np.random.randint(0, len(y_train))\n",
        "        ax = fig.add_subplot(rows, cols, i * rows + j + 1)\n",
        "        ax.grid('off')\n",
        "        ax.axis('off')\n",
        "        ax.imshow(x_train[random_index, :])\n",
        "        ax.set_title(cifar10_classes[y_train[random_index, 0]])\n",
        "plt.show()"
      ],
      "execution_count": 7,
      "outputs": [
        {
          "output_type": "stream",
          "text": [
            "/usr/local/lib/python3.6/dist-packages/matplotlib/cbook/__init__.py:424: MatplotlibDeprecationWarning: \n",
            "Passing one of 'on', 'true', 'off', 'false' as a boolean is deprecated; use an actual boolean (True/False) instead.\n",
            "  warn_deprecated(\"2.2\", \"Passing one of 'on', 'true', 'off', 'false' as a \"\n"
          ],
          "name": "stderr"
        },
        {
          "output_type": "display_data",
          "data": {
            "image/png": "[encoded data removed]",
            "text/plain": [
              "<Figure size 1080x288 with 16 Axes>"
            ]
          },
          "metadata": {
            "tags": []
          }
        }
      ]
    },
    {
      "cell_type": "markdown",
      "metadata": {
        "id": "nKv-XBsneS61",
        "colab_type": "text"
      },
      "source": [
        "# Готовим данные"
      ]
    },
    {
      "cell_type": "markdown",
      "metadata": {
        "id": "baNUrgH_eS61",
        "colab_type": "text"
      },
      "source": [
        "Не забудьте нормализовать картинки: $$x_{norm} = \\frac{x}{255} - 0.5$$\n",
        "\n",
        "А еще нужно превратить метки в one-hot вектора при помощи __keras.utils.to_categorical__."
      ]
    },
    {
      "cell_type": "code",
      "metadata": {
        "ExecuteTime": {
          "end_time": "2017-09-04T00:25:55.504781Z",
          "start_time": "2017-09-04T00:25:55.500823Z"
        },
        "id": "ibxYQzBNeS62",
        "colab_type": "code",
        "colab": {}
      },
      "source": [
        "# нормализуем входы\n",
        "x_train2 = x_train.astype('float32') / 255 - 0.5\n",
        "x_test2 = x_test.astype('float32') / 255 - 0.5\n",
        "\n",
        "# конвертируем метки в np.array (?, NUM_CLASSES)\n",
        "y_train2 = keras.utils.to_categorical(y_train, NUM_CLASSES)\n",
        "y_test2 = keras.utils.to_categorical(y_test, NUM_CLASSES)"
      ],
      "execution_count": 0,
      "outputs": []
    },
    {
      "cell_type": "markdown",
      "metadata": {
        "id": "-HfEuXTOeS65",
        "colab_type": "text"
      },
      "source": [
        "# Задаем *дефолтную* архитектуру сети"
      ]
    },
    {
      "cell_type": "code",
      "metadata": {
        "ExecuteTime": {
          "end_time": "2017-08-24T11:39:23.631230Z",
          "start_time": "2017-08-24T11:39:23.627975Z"
        },
        "id": "UbVJNxDweS66",
        "colab_type": "code",
        "colab": {}
      },
      "source": [
        "# слои, которые нам пригодятся\n",
        "from keras.models import Sequential\n",
        "from keras.layers import Conv2D, MaxPooling2D, Flatten, Dense, Dropout, BatchNormalization"
      ],
      "execution_count": 0,
      "outputs": []
    },
    {
      "cell_type": "markdown",
      "metadata": {
        "id": "z-aSooUceS69",
        "colab_type": "text"
      },
      "source": [
        "Нам понадобятся такие слои:\n",
        "- [Conv2D](https://keras.io/layers/convolutional/#conv2d) - сверточный слой:\n",
        "    - **filters**: количество фильтров на выходе; \n",
        "    - **kernel_size**: размер скользящего окна;\n",
        "    - **padding**: padding=\"same\" добивает нулями, чтобы ширина и высота на выходе не изменились, padding='valid' берет только окна, которые полностью помещаются в картинке;\n",
        "    - **activation**: \"relu\", \"tanh\", итд;\n",
        "    - **input_shape**: размер входа вида (W, H, C_in).\n",
        "- [MaxPooling2D](https://keras.io/layers/pooling/#maxpooling2d) - пулинг\n",
        "- [Flatten](https://keras.io/layers/core/#flatten) - все оси, кроме батча (первой) вытягиваются в один вектор.\n",
        "- [Dense](https://keras.io/layers/core/#dense) - плотный, активацию можно задать через activation=\"elu\" или activation=\"softmax\".\n",
        "- [Dropout](https://keras.io/layers/core/#dropout) - дропаут регуляризация (без нее сеть сильно переобучается), позже узнаем какой у нее смысл."
      ]
    },
    {
      "cell_type": "markdown",
      "metadata": {
        "ExecuteTime": {
          "end_time": "2017-09-03T23:48:59.567910Z",
          "start_time": "2017-09-03T23:48:59.564449Z"
        },
        "id": "ZArk-HgHeS69",
        "colab_type": "text"
      },
      "source": [
        "Ваша модель должна принимать на вход цветную картинку __(None, 32, 32, 3)__ и предсказывать вероятности 10 классов __(None, 10)__.\n",
        "\n",
        "Добавьте __4__ сверточных слоя с окном __(3, 3)__ с нарастающим количеством фильтров: __(16, 32, 32, 64)__, используйте \"same\" паддинг.\n",
        "\n",
        "Добавьте __2x2__ макс пулинг после каждых 2 сверточных слоев (conv-conv-pool схема).\n",
        "\n",
        "Используйте __activation='elu'__ для всех слоев, где это нужно.\n",
        "\n",
        "Добавьте плотный слой из __256__ нейронов и еще один из __10__ нейронов для предсказания выходов. Не забудьте применить __Flatten__ перед первым плотным слоем!\n",
        "\n",
        "Для регуляризации сети вставьте Dropout после каждого пулинг слоя (с параметром** 0.25**) и между плотными слоями на выходе (с параметром **0.5**).\n",
        "\n",
        "В дальнейшем будем называть эту архитектуру **дефолтной** и будем исследовать небольшие изменения в ней!"
      ]
    },
    {
      "cell_type": "code",
      "metadata": {
        "ExecuteTime": {
          "end_time": "2017-08-24T11:39:23.739649Z",
          "start_time": "2017-08-24T11:39:23.632558Z"
        },
        "id": "KBdc7NJgeS6-",
        "colab_type": "code",
        "colab": {}
      },
      "source": [
        "def make_default_model():\n",
        "    model = Sequential()\n",
        "    model.add(Conv2D(16, kernel_size=3, strides=1, padding='same', activation='elu', input_shape=(32, 32, 3)))  # input_shape задаем только на первом слое\n",
        "    model.add(Conv2D(32, kernel_size=3, strides=1, padding='same', activation='elu'))\n",
        "    model.add(MaxPooling2D())\n",
        "    model.add(Dropout(0.25))\n",
        "    model.add(Conv2D(32, kernel_size=3, strides=1, padding='same', activation='elu'))\n",
        "    model.add(Conv2D(64, kernel_size=3, strides=1, padding='same', activation='elu'))\n",
        "    model.add(MaxPooling2D())\n",
        "    model.add(Dropout(0.25))\n",
        "    model.add(Flatten())\n",
        "    model.add(Dense(256, activation='elu'))\n",
        "    model.add(Dropout(0.5))\n",
        "    model.add(Dense(10, activation='softmax'))\n",
        "    \n",
        "    return model"
      ],
      "execution_count": 0,
      "outputs": []
    },
    {
      "cell_type": "code",
      "metadata": {
        "ExecuteTime": {
          "end_time": "2017-08-24T11:39:23.948546Z",
          "start_time": "2017-08-24T11:39:23.741012Z"
        },
        "id": "Ho-m53kLeS7A",
        "colab_type": "code",
        "colab": {
          "base_uri": "https://localhost:8080/",
          "height": 851
        },
        "outputId": "b139fd43-d02b-42fe-837a-c98fc2e89dc4"
      },
      "source": [
        "s = reset_tf_session()\n",
        "model = make_default_model()\n",
        "model.summary()"
      ],
      "execution_count": 11,
      "outputs": [
        {
          "output_type": "stream",
          "text": [
            "WARNING: Logging before flag parsing goes to stderr.\n",
            "W0618 12:20:42.373098 139794074519424 deprecation_wrapper.py:119] From /usr/local/lib/python3.6/dist-packages/keras/backend/tensorflow_backend.py:95: The name tf.reset_default_graph is deprecated. Please use tf.compat.v1.reset_default_graph instead.\n",
            "\n",
            "W0618 12:20:42.375315 139794074519424 deprecation_wrapper.py:119] From /usr/local/lib/python3.6/dist-packages/keras/backend/tensorflow_backend.py:98: The name tf.placeholder_with_default is deprecated. Please use tf.compat.v1.placeholder_with_default instead.\n",
            "\n",
            "W0618 12:20:42.416728 139794074519424 deprecation_wrapper.py:119] From /usr/local/lib/python3.6/dist-packages/keras/backend/tensorflow_backend.py:102: The name tf.get_default_graph is deprecated. Please use tf.compat.v1.get_default_graph instead.\n",
            "\n",
            "W0618 12:20:43.659655 139794074519424 deprecation_wrapper.py:119] From /usr/local/lib/python3.6/dist-packages/keras/backend/tensorflow_backend.py:517: The name tf.placeholder is deprecated. Please use tf.compat.v1.placeholder instead.\n",
            "\n",
            "W0618 12:20:43.662541 139794074519424 deprecation_wrapper.py:119] From /usr/local/lib/python3.6/dist-packages/keras/backend/tensorflow_backend.py:4138: The name tf.random_uniform is deprecated. Please use tf.random.uniform instead.\n",
            "\n",
            "W0618 12:20:43.700532 139794074519424 deprecation_wrapper.py:119] From /usr/local/lib/python3.6/dist-packages/keras/backend/tensorflow_backend.py:3976: The name tf.nn.max_pool is deprecated. Please use tf.nn.max_pool2d instead.\n",
            "\n",
            "W0618 12:20:43.708287 139794074519424 deprecation.py:506] From /usr/local/lib/python3.6/dist-packages/keras/backend/tensorflow_backend.py:3445: calling dropout (from tensorflow.python.ops.nn_ops) with keep_prob is deprecated and will be removed in a future version.\n",
            "Instructions for updating:\n",
            "Please use `rate` instead of `keep_prob`. Rate should be set to `rate = 1 - keep_prob`.\n"
          ],
          "name": "stderr"
        },
        {
          "output_type": "stream",
          "text": [
            "_________________________________________________________________\n",
            "Layer (type)                 Output Shape              Param #   \n",
            "=================================================================\n",
            "conv2d_1 (Conv2D)            (None, 32, 32, 16)        448       \n",
            "_________________________________________________________________\n",
            "conv2d_2 (Conv2D)            (None, 32, 32, 32)        4640      \n",
            "_________________________________________________________________\n",
            "max_pooling2d_1 (MaxPooling2 (None, 16, 16, 32)        0         \n",
            "_________________________________________________________________\n",
            "dropout_1 (Dropout)          (None, 16, 16, 32)        0         \n",
            "_________________________________________________________________\n",
            "conv2d_3 (Conv2D)            (None, 16, 16, 32)        9248      \n",
            "_________________________________________________________________\n",
            "conv2d_4 (Conv2D)            (None, 16, 16, 64)        18496     \n",
            "_________________________________________________________________\n",
            "max_pooling2d_2 (MaxPooling2 (None, 8, 8, 64)          0         \n",
            "_________________________________________________________________\n",
            "dropout_2 (Dropout)          (None, 8, 8, 64)          0         \n",
            "_________________________________________________________________\n",
            "flatten_1 (Flatten)          (None, 4096)              0         \n",
            "_________________________________________________________________\n",
            "dense_1 (Dense)              (None, 256)               1048832   \n",
            "_________________________________________________________________\n",
            "dropout_3 (Dropout)          (None, 256)               0         \n",
            "_________________________________________________________________\n",
            "dense_2 (Dense)              (None, 10)                2570      \n",
            "=================================================================\n",
            "Total params: 1,084,234\n",
            "Trainable params: 1,084,234\n",
            "Non-trainable params: 0\n",
            "_________________________________________________________________\n"
          ],
          "name": "stdout"
        }
      ]
    },
    {
      "cell_type": "markdown",
      "metadata": {
        "id": "H8IHeJHzeS7P",
        "colab_type": "text"
      },
      "source": [
        "# Тренируем модель"
      ]
    },
    {
      "cell_type": "code",
      "metadata": {
        "ExecuteTime": {
          "end_time": "2017-08-24T12:18:39.059726Z",
          "start_time": "2017-08-24T11:39:23.949926Z"
        },
        "id": "Ko6qjH2HeS7Q",
        "colab_type": "code",
        "colab": {}
      },
      "source": [
        "def train_model(make_model_func=make_default_model, optimizer=\"adam\"):\n",
        "  BATCH_SIZE = 32\n",
        "  EPOCHS = 10\n",
        "\n",
        "  s = reset_tf_session()\n",
        "  model = make_model_func()\n",
        "\n",
        "  model.compile(\n",
        "      loss='categorical_crossentropy',\n",
        "      optimizer=optimizer,\n",
        "      metrics=['accuracy']\n",
        "  )\n",
        "\n",
        "  model.fit(\n",
        "      x_train2, y_train2,  # нормализованные данные\n",
        "      batch_size=BATCH_SIZE,\n",
        "      epochs=EPOCHS,\n",
        "      validation_data=(x_test2, y_test2),\n",
        "      shuffle=False\n",
        "  )\n",
        "  \n",
        "  return model"
      ],
      "execution_count": 0,
      "outputs": []
    },
    {
      "cell_type": "markdown",
      "metadata": {
        "id": "1AkfrVmdA6AP",
        "colab_type": "text"
      },
      "source": [
        "Давайте посмотрим, что будет с дефолтной моделью (модель = make_default_model, оптимайзер = \"adam\"), если ее немного поменять:\n",
        "\n",
        "\n",
        "\n",
        "1.   Какое качество (accuracy) на валидации дает **дефолтная архитектура**?\n",
        "2.   Измените в дефолтной архитектуре **elu активацию на sigmoid**, какое качество на валидации получили?\n",
        "3.   Измените в дефолтной архитектуре **adam оптимайзер на sgd**, какое качество на валидации получили?\n",
        "4.   Добавьте к дефолтной архитектуре **батч нормализацию** после каждого сверточного слоя и после перового полносвязного (model.add(BatchNormalization())), какое качество на валидации получили?\n",
        "5.   Добавьте к дефолтной архитектуре **батч нормализацию** и смените **elu активацию на sigmoid**,  какое качество на валидации получили?\n",
        "  \n",
        "*Рекомендуется завести свою функцию для каждого изменения архитектуры!*\n"
      ]
    },
    {
      "cell_type": "code",
      "metadata": {
        "id": "2zS3rW7S_D6j",
        "colab_type": "code",
        "colab": {
          "base_uri": "https://localhost:8080/",
          "height": 505
        },
        "outputId": "06b1be0c-7bee-49b4-80bc-d3d632edc19b"
      },
      "source": [
        "# учим дефолтную архитектуру\n",
        "train_model()"
      ],
      "execution_count": 14,
      "outputs": [
        {
          "output_type": "stream",
          "text": [
            "W0618 12:22:36.558936 139794074519424 deprecation_wrapper.py:119] From /usr/local/lib/python3.6/dist-packages/keras/optimizers.py:790: The name tf.train.Optimizer is deprecated. Please use tf.compat.v1.train.Optimizer instead.\n",
            "\n",
            "W0618 12:22:36.693681 139794074519424 deprecation.py:323] From /usr/local/lib/python3.6/dist-packages/tensorflow/python/ops/math_grad.py:1250: add_dispatch_support.<locals>.wrapper (from tensorflow.python.ops.array_ops) is deprecated and will be removed in a future version.\n",
            "Instructions for updating:\n",
            "Use tf.where in 2.0, which has the same broadcast rule as np.where\n"
          ],
          "name": "stderr"
        },
        {
          "output_type": "stream",
          "text": [
            "Train on 50000 samples, validate on 10000 samples\n",
            "Epoch 1/10\n",
            "50000/50000 [==============================] - 17s 343us/step - loss: 1.3179 - acc: 0.5369 - val_loss: 1.0855 - val_acc: 0.6194\n",
            "Epoch 2/10\n",
            "50000/50000 [==============================] - 12s 231us/step - loss: 1.0832 - acc: 0.6223 - val_loss: 1.0198 - val_acc: 0.6423\n",
            "Epoch 3/10\n",
            "50000/50000 [==============================] - 12s 232us/step - loss: 0.9907 - acc: 0.6549 - val_loss: 0.9498 - val_acc: 0.6675\n",
            "Epoch 4/10\n",
            "50000/50000 [==============================] - 11s 230us/step - loss: 0.9310 - acc: 0.6757 - val_loss: 0.9263 - val_acc: 0.6846\n",
            "Epoch 5/10\n",
            "50000/50000 [==============================] - 11s 230us/step - loss: 0.8701 - acc: 0.6935 - val_loss: 0.8415 - val_acc: 0.7171\n",
            "Epoch 6/10\n",
            "50000/50000 [==============================] - 11s 229us/step - loss: 0.8242 - acc: 0.7088 - val_loss: 0.8318 - val_acc: 0.7148\n",
            "Epoch 7/10\n",
            "50000/50000 [==============================] - 11s 229us/step - loss: 0.7832 - acc: 0.7263 - val_loss: 0.8334 - val_acc: 0.7291\n",
            "Epoch 8/10\n",
            "50000/50000 [==============================] - 11s 230us/step - loss: 0.7507 - acc: 0.7367 - val_loss: 0.7849 - val_acc: 0.7434\n",
            "Epoch 9/10\n",
            "50000/50000 [==============================] - 11s 228us/step - loss: 0.7189 - acc: 0.7462 - val_loss: 0.8032 - val_acc: 0.7353\n",
            "Epoch 10/10\n",
            "50000/50000 [==============================] - 11s 228us/step - loss: 0.7019 - acc: 0.7526 - val_loss: 0.7982 - val_acc: 0.7333\n"
          ],
          "name": "stdout"
        },
        {
          "output_type": "execute_result",
          "data": {
            "text/plain": [
              "<keras.engine.sequential.Sequential at 0x7f23fc238908>"
            ]
          },
          "metadata": {
            "tags": []
          },
          "execution_count": 14
        }
      ]
    },
    {
      "cell_type": "code",
      "metadata": {
        "id": "Ys7J_92qHYVN",
        "colab_type": "code",
        "colab": {}
      },
      "source": [
        "def make_sigmoid_model():\n",
        "    model = Sequential()\n",
        "    model.add(Conv2D(16, kernel_size=3, strides=1, padding='same', activation='sigmoid', input_shape=(32, 32, 3)))  # input_shape задаем только на первом слое\n",
        "    model.add(Conv2D(32, kernel_size=3, strides=1, padding='same', activation='sigmoid'))\n",
        "    model.add(MaxPooling2D())\n",
        "    model.add(Dropout(0.25))\n",
        "    model.add(Conv2D(32, kernel_size=3, strides=1, padding='same', activation='sigmoid'))\n",
        "    model.add(Conv2D(64, kernel_size=3, strides=1, padding='same', activation='sigmoid'))\n",
        "    model.add(MaxPooling2D())\n",
        "    model.add(Dropout(0.25))\n",
        "    model.add(Flatten())\n",
        "    model.add(Dense(256, activation='sigmoid'))\n",
        "    model.add(Dropout(0.5))\n",
        "    model.add(Dense(10, activation='sigmoid'))\n",
        "    \n",
        "    return model"
      ],
      "execution_count": 0,
      "outputs": []
    },
    {
      "cell_type": "code",
      "metadata": {
        "id": "W9lWbYckHwnU",
        "colab_type": "code",
        "colab": {
          "base_uri": "https://localhost:8080/",
          "height": 418
        },
        "outputId": "c6cf683a-cd9c-42e0-e5be-5eb182372c10"
      },
      "source": [
        "# учим sigmoid\n",
        "train_model(make_sigmoid_model)"
      ],
      "execution_count": 22,
      "outputs": [
        {
          "output_type": "stream",
          "text": [
            "Train on 50000 samples, validate on 10000 samples\n",
            "Epoch 1/10\n",
            "50000/50000 [==============================] - 12s 236us/step - loss: 2.3046 - acc: 0.0988 - val_loss: 2.3026 - val_acc: 0.1000\n",
            "Epoch 2/10\n",
            "50000/50000 [==============================] - 11s 229us/step - loss: 2.3027 - acc: 0.1005 - val_loss: 2.3026 - val_acc: 0.1000\n",
            "Epoch 3/10\n",
            "50000/50000 [==============================] - 11s 228us/step - loss: 2.3026 - acc: 0.1013 - val_loss: 2.3026 - val_acc: 0.1000\n",
            "Epoch 4/10\n",
            "50000/50000 [==============================] - 12s 231us/step - loss: 2.3026 - acc: 0.0997 - val_loss: 2.3026 - val_acc: 0.1000\n",
            "Epoch 5/10\n",
            "50000/50000 [==============================] - 11s 228us/step - loss: 2.3026 - acc: 0.0999 - val_loss: 2.3026 - val_acc: 0.1000\n",
            "Epoch 6/10\n",
            "50000/50000 [==============================] - 12s 231us/step - loss: 2.3027 - acc: 0.0987 - val_loss: 2.3026 - val_acc: 0.1000\n",
            "Epoch 7/10\n",
            "50000/50000 [==============================] - 11s 229us/step - loss: 2.3026 - acc: 0.0978 - val_loss: 2.3026 - val_acc: 0.1000\n",
            "Epoch 8/10\n",
            "50000/50000 [==============================] - 11s 229us/step - loss: 2.3026 - acc: 0.1002 - val_loss: 2.3026 - val_acc: 0.1000\n",
            "Epoch 9/10\n",
            "50000/50000 [==============================] - 11s 229us/step - loss: 2.3026 - acc: 0.1019 - val_loss: 2.3026 - val_acc: 0.1000\n",
            "Epoch 10/10\n",
            "50000/50000 [==============================] - 11s 228us/step - loss: 2.3026 - acc: 0.0979 - val_loss: 2.3026 - val_acc: 0.1000\n"
          ],
          "name": "stdout"
        },
        {
          "output_type": "execute_result",
          "data": {
            "text/plain": [
              "<keras.engine.sequential.Sequential at 0x7f2389bf6588>"
            ]
          },
          "metadata": {
            "tags": []
          },
          "execution_count": 22
        }
      ]
    },
    {
      "cell_type": "code",
      "metadata": {
        "id": "aIlCmlnNH7d1",
        "colab_type": "code",
        "colab": {
          "base_uri": "https://localhost:8080/",
          "height": 418
        },
        "outputId": "de586d77-026f-4ca1-94ac-a1ea72bb9e5c"
      },
      "source": [
        "\n",
        "# учим sgd\n",
        "train_model(optimizer=\"sgd\")"
      ],
      "execution_count": 23,
      "outputs": [
        {
          "output_type": "stream",
          "text": [
            "Train on 50000 samples, validate on 10000 samples\n",
            "Epoch 1/10\n",
            "50000/50000 [==============================] - 10s 209us/step - loss: 1.7524 - acc: 0.3689 - val_loss: 1.5366 - val_acc: 0.4499\n",
            "Epoch 2/10\n",
            "50000/50000 [==============================] - 10s 198us/step - loss: 1.4811 - acc: 0.4708 - val_loss: 1.3351 - val_acc: 0.5250\n",
            "Epoch 3/10\n",
            "50000/50000 [==============================] - 10s 199us/step - loss: 1.3105 - acc: 0.5371 - val_loss: 1.2066 - val_acc: 0.5690\n",
            "Epoch 4/10\n",
            "50000/50000 [==============================] - 10s 199us/step - loss: 1.1717 - acc: 0.5899 - val_loss: 1.1081 - val_acc: 0.6110\n",
            "Epoch 5/10\n",
            "50000/50000 [==============================] - 10s 198us/step - loss: 1.0918 - acc: 0.6169 - val_loss: 1.0047 - val_acc: 0.6490\n",
            "Epoch 6/10\n",
            "50000/50000 [==============================] - 10s 197us/step - loss: 1.0370 - acc: 0.6365 - val_loss: 0.9940 - val_acc: 0.6457\n",
            "Epoch 7/10\n",
            "50000/50000 [==============================] - 10s 200us/step - loss: 0.9974 - acc: 0.6516 - val_loss: 0.9554 - val_acc: 0.6649\n",
            "Epoch 8/10\n",
            "50000/50000 [==============================] - 10s 199us/step - loss: 0.9598 - acc: 0.6645 - val_loss: 0.8962 - val_acc: 0.6862\n",
            "Epoch 9/10\n",
            "50000/50000 [==============================] - 10s 198us/step - loss: 0.9314 - acc: 0.6743 - val_loss: 0.8959 - val_acc: 0.6841\n",
            "Epoch 10/10\n",
            "50000/50000 [==============================] - 10s 198us/step - loss: 0.9071 - acc: 0.6835 - val_loss: 0.8900 - val_acc: 0.6895\n"
          ],
          "name": "stdout"
        },
        {
          "output_type": "execute_result",
          "data": {
            "text/plain": [
              "<keras.engine.sequential.Sequential at 0x7f2388b7f2e8>"
            ]
          },
          "metadata": {
            "tags": []
          },
          "execution_count": 23
        }
      ]
    },
    {
      "cell_type": "code",
      "metadata": {
        "id": "2VFLuNi4ILXN",
        "colab_type": "code",
        "colab": {}
      },
      "source": [
        "def make_bn_model():\n",
        "  model = Sequential()\n",
        "  model.add(Conv2D(16, kernel_size=3, strides=1, padding='same', activation='elu', input_shape=(32, 32, 3)))\n",
        "  model.add(BatchNormalization())\n",
        "  model.add(Conv2D(32, kernel_size=3, strides=1, padding='same', activation='elu'))\n",
        "  model.add(BatchNormalization())\n",
        "  \n",
        "  model.add(MaxPooling2D())\n",
        "  model.add(Dropout(0.25))\n",
        "  \n",
        "  model.add(Conv2D(32, kernel_size=3, strides=1, padding='same', activation='elu'))\n",
        "  model.add(BatchNormalization())\n",
        "  model.add(Conv2D(64, kernel_size=3, strides=1, padding='same', activation='elu'))\n",
        "  model.add(BatchNormalization())\n",
        "  \n",
        "  model.add(MaxPooling2D())\n",
        "  model.add(Dropout(0.25))\n",
        "  model.add(Flatten())\n",
        "  model.add(Dense(256, activation='elu'))\n",
        "  model.add(BatchNormalization())\n",
        "  \n",
        "  model.add(Dropout(0.5))\n",
        "  model.add(Dense(10, activation='softmax'))\n",
        "  \n",
        "  return model\n",
        "  \n"
      ],
      "execution_count": 0,
      "outputs": []
    },
    {
      "cell_type": "code",
      "metadata": {
        "id": "8xX0p3Z0IiA3",
        "colab_type": "code",
        "colab": {
          "base_uri": "https://localhost:8080/",
          "height": 453
        },
        "outputId": "4cb0efad-e794-447b-a92d-1bf279783634"
      },
      "source": [
        "# учим bn\n",
        "train_model(make_bn_model)"
      ],
      "execution_count": 27,
      "outputs": [
        {
          "output_type": "stream",
          "text": [
            "W0618 12:54:59.899474 139794074519424 deprecation_wrapper.py:119] From /usr/local/lib/python3.6/dist-packages/keras/backend/tensorflow_backend.py:1834: The name tf.nn.fused_batch_norm is deprecated. Please use tf.compat.v1.nn.fused_batch_norm instead.\n",
            "\n"
          ],
          "name": "stderr"
        },
        {
          "output_type": "stream",
          "text": [
            "Train on 50000 samples, validate on 10000 samples\n",
            "Epoch 1/10\n",
            "50000/50000 [==============================] - 19s 387us/step - loss: 1.4707 - acc: 0.5017 - val_loss: 1.0786 - val_acc: 0.6286\n",
            "Epoch 2/10\n",
            "50000/50000 [==============================] - 19s 373us/step - loss: 1.0362 - acc: 0.6362 - val_loss: 0.8874 - val_acc: 0.7002\n",
            "Epoch 3/10\n",
            "50000/50000 [==============================] - 19s 375us/step - loss: 0.8996 - acc: 0.6862 - val_loss: 0.8077 - val_acc: 0.7258\n",
            "Epoch 4/10\n",
            "50000/50000 [==============================] - 19s 374us/step - loss: 0.8086 - acc: 0.7182 - val_loss: 0.7302 - val_acc: 0.7444\n",
            "Epoch 5/10\n",
            "50000/50000 [==============================] - 19s 374us/step - loss: 0.7426 - acc: 0.7421 - val_loss: 0.6866 - val_acc: 0.7608\n",
            "Epoch 6/10\n",
            "50000/50000 [==============================] - 19s 378us/step - loss: 0.6755 - acc: 0.7649 - val_loss: 0.6561 - val_acc: 0.7741\n",
            "Epoch 7/10\n",
            "50000/50000 [==============================] - 19s 374us/step - loss: 0.6305 - acc: 0.7788 - val_loss: 0.6840 - val_acc: 0.7728\n",
            "Epoch 8/10\n",
            "50000/50000 [==============================] - 19s 374us/step - loss: 0.5908 - acc: 0.7938 - val_loss: 0.6301 - val_acc: 0.7897\n",
            "Epoch 9/10\n",
            "50000/50000 [==============================] - 19s 377us/step - loss: 0.5440 - acc: 0.8077 - val_loss: 0.6350 - val_acc: 0.7891\n",
            "Epoch 10/10\n",
            "50000/50000 [==============================] - 19s 374us/step - loss: 0.5203 - acc: 0.8175 - val_loss: 0.6139 - val_acc: 0.7946\n"
          ],
          "name": "stdout"
        },
        {
          "output_type": "execute_result",
          "data": {
            "text/plain": [
              "<keras.engine.sequential.Sequential at 0x7f23885af2b0>"
            ]
          },
          "metadata": {
            "tags": []
          },
          "execution_count": 27
        }
      ]
    },
    {
      "cell_type": "code",
      "metadata": {
        "id": "eXaGmu8XIkhk",
        "colab_type": "code",
        "colab": {}
      },
      "source": [
        "def make_sigmoid_bn_model():\n",
        "  model = Sequential()\n",
        "  model.add(Conv2D(16, kernel_size=3, strides=1, padding='same', activation='sigmoid', input_shape=(32, 32, 3)))\n",
        "  model.add(BatchNormalization())\n",
        "  model.add(Conv2D(32, kernel_size=3, strides=1, padding='same', activation='sigmoid'))\n",
        "  model.add(BatchNormalization())\n",
        "  \n",
        "  model.add(MaxPooling2D())\n",
        "  model.add(Dropout(0.25))\n",
        "  \n",
        "  model.add(Conv2D(32, kernel_size=3, strides=1, padding='same', activation='sigmoid'))\n",
        "  model.add(BatchNormalization())\n",
        "  model.add(Conv2D(64, kernel_size=3, strides=1, padding='same', activation='sigmoid'))\n",
        "  model.add(BatchNormalization())\n",
        "  \n",
        "  model.add(MaxPooling2D())\n",
        "  model.add(Dropout(0.25))\n",
        "  model.add(Flatten())\n",
        "  model.add(Dense(256, activation='sigmoid'))\n",
        "  model.add(BatchNormalization())\n",
        "  \n",
        "  model.add(Dropout(0.5))\n",
        "  model.add(Dense(10, activation='softmax'))\n",
        "  \n",
        "  return model"
      ],
      "execution_count": 0,
      "outputs": []
    },
    {
      "cell_type": "code",
      "metadata": {
        "id": "9sp7EOkvLAkR",
        "colab_type": "code",
        "colab": {
          "base_uri": "https://localhost:8080/",
          "height": 418
        },
        "outputId": "3d65c821-e4cd-45ca-e161-01aedfa99379"
      },
      "source": [
        "# учим sigmoid + bn\n",
        "train_model(make_sigmoid_bn_model)"
      ],
      "execution_count": 31,
      "outputs": [
        {
          "output_type": "stream",
          "text": [
            "Train on 50000 samples, validate on 10000 samples\n",
            "Epoch 1/10\n",
            "50000/50000 [==============================] - 19s 388us/step - loss: 1.6308 - acc: 0.4214 - val_loss: 1.4120 - val_acc: 0.5097\n",
            "Epoch 2/10\n",
            "50000/50000 [==============================] - 19s 381us/step - loss: 1.2331 - acc: 0.5624 - val_loss: 1.0256 - val_acc: 0.6305\n",
            "Epoch 3/10\n",
            "50000/50000 [==============================] - 19s 375us/step - loss: 1.0787 - acc: 0.6194 - val_loss: 0.9953 - val_acc: 0.6528\n",
            "Epoch 4/10\n",
            "50000/50000 [==============================] - 19s 375us/step - loss: 0.9939 - acc: 0.6521 - val_loss: 0.8841 - val_acc: 0.6945\n",
            "Epoch 5/10\n",
            "50000/50000 [==============================] - 19s 375us/step - loss: 0.9323 - acc: 0.6734 - val_loss: 0.8861 - val_acc: 0.6964\n",
            "Epoch 6/10\n",
            "50000/50000 [==============================] - 19s 375us/step - loss: 0.8913 - acc: 0.6896 - val_loss: 0.8404 - val_acc: 0.7068\n",
            "Epoch 7/10\n",
            "50000/50000 [==============================] - 19s 375us/step - loss: 0.8500 - acc: 0.7026 - val_loss: 0.7952 - val_acc: 0.7227\n",
            "Epoch 8/10\n",
            "50000/50000 [==============================] - 19s 375us/step - loss: 0.8192 - acc: 0.7145 - val_loss: 0.7827 - val_acc: 0.7266\n",
            "Epoch 9/10\n",
            "50000/50000 [==============================] - 19s 376us/step - loss: 0.7958 - acc: 0.7232 - val_loss: 0.8095 - val_acc: 0.7219\n",
            "Epoch 10/10\n",
            "50000/50000 [==============================] - 19s 375us/step - loss: 0.7676 - acc: 0.7324 - val_loss: 0.7651 - val_acc: 0.7356\n"
          ],
          "name": "stdout"
        },
        {
          "output_type": "execute_result",
          "data": {
            "text/plain": [
              "<keras.engine.sequential.Sequential at 0x7f2386e36358>"
            ]
          },
          "metadata": {
            "tags": []
          },
          "execution_count": 31
        }
      ]
    }
  ]
}